{
 "cells": [
  {
   "cell_type": "code",
   "execution_count": null,
   "id": "990053e8",
   "metadata": {},
   "outputs": [],
   "source": [
    "# Open record.json file in Read mode "
   ]
  },
  {
   "cell_type": "code",
   "execution_count": null,
   "id": "6a9582ab",
   "metadata": {},
   "outputs": [],
   "source": [
    "import json\n",
    "import datetime\n",
    "\n",
    "fd = open(\"record.json\",'r')\n",
    "r = fd.read()\n",
    "fd.close()\n",
    "\n",
    "records = json.loads(r)"
   ]
  },
  {
   "cell_type": "code",
   "execution_count": null,
   "id": "ec1edf8f",
   "metadata": {},
   "outputs": [],
   "source": [
    "# print available Products in inventory"
   ]
  },
  {
   "cell_type": "code",
   "execution_count": null,
   "id": "55220186",
   "metadata": {},
   "outputs": [],
   "source": [
    "print(\"\\t\\t\\t\\t-----------------Available Products-------------------\\n\")\n",
    "for item in records:\n",
    "    print(f\"Id = {item} :=> {records[item]}\")"
   ]
  },
  {
   "cell_type": "code",
   "execution_count": null,
   "id": "557b690e",
   "metadata": {},
   "outputs": [],
   "source": [
    "# Function to Handle the updating record.json "
   ]
  },
  {
   "cell_type": "code",
   "execution_count": null,
   "id": "e326c65a",
   "metadata": {},
   "outputs": [],
   "source": [
    "def update_records(Id, Quantity):\n",
    "    fd = open(\"record.json\",'r')\n",
    "    r = fd.read()\n",
    "    fd.close()\n",
    "    records = json.loads(r)\n",
    "\n",
    "    records[Id]['Quantity'] = records[Id]['Quantity'] - Quantity\n",
    "    if records[Id]['Quantity'] == 0:\n",
    "       del(records[Id])\n",
    "    js = json.dumps(records, indent=4 )\n",
    "    fd = open(\"record.json\",'w')\n",
    "    fd.write(js)\n",
    "    fd.close()"
   ]
  },
  {
   "cell_type": "code",
   "execution_count": null,
   "id": "07ef6e9a",
   "metadata": {},
   "outputs": [],
   "source": [
    "# Function to Handle the updating sales.json "
   ]
  },
  {
   "cell_type": "code",
   "execution_count": null,
   "id": "d4b70dac",
   "metadata": {},
   "outputs": [],
   "source": [
    "def sales_func(data,date):  \n",
    "    fd = open('sales.json', 'r') \n",
    "    sr = fd.read()\n",
    "    fd.close()\n",
    "    sales = json.loads(sr)\n",
    "    sales[date] = data\n",
    "    js = json.dumps(sales, indent=4)\n",
    "    fd = open(\"sales.json\",'w')\n",
    "    fd.write(js)\n",
    "    fd.close()"
   ]
  },
  {
   "cell_type": "code",
   "execution_count": null,
   "id": "5448f5c8",
   "metadata": {},
   "outputs": [],
   "source": [
    "# Function to buy the products from inventory"
   ]
  },
  {
   "cell_type": "code",
   "execution_count": null,
   "id": "2f8caff8",
   "metadata": {},
   "outputs": [],
   "source": [
    "def buy_products():\n",
    "    prodId = input(\"\\nPlease Enter the Id of product you want to buy: \")\n",
    "    if prodId in records:\n",
    "        print(\"Item Found\")\n",
    "        print(f\"Name :=> {records[prodId]['Name']}\\nPrice of each Item :=> {records[prodId]['Price']}\")\n",
    "        quant = int(input(\"Please Enter the Quantity of products to buy: \"))\n",
    "        if records[prodId]['Quantity']>=quant:\n",
    "            price = float(records[prodId]['Price'])\n",
    "            name = records[prodId]['Name']\n",
    "            amount = price * quant\n",
    "            discount = (float(records[prodId]['Discount'])/100) * amount\n",
    "            pamount = amount - discount\n",
    "            print(f\"Total Amount: {amount}\\nDiscount in rupees: {discount}\")\n",
    "            print(\"--------------------------------------------------------\")\n",
    "            print(f\"Amount to pay after Discount: {pamount}\\n\")\n",
    "            pay = str(input(\"You Want to confirm Order y/n: \"))\n",
    "            if (pay == 'y'):\n",
    "                update_records(prodId, quant)\n",
    "                sales_data = {\"Name\": name,\"Quantity\": quant,\"Price\": price,\"Amount with Discount\": pamount}\n",
    "                sale_date = str(datetime.datetime.now())\n",
    "                sales_func(sales_data,sale_date)\n",
    "                print(\"****************** Product Successfully purchased ******************\\n\")\n",
    "            else:\n",
    "                print(\"****************** Order Canceled ******************\\n\")\n",
    "        else:\n",
    "            print(f\"Sorry We have Only {records[prodId]['Quantity']} product  \")\n",
    "    else:\n",
    "        print(\"we dont have that product_id, please Enter valid product_id\")"
   ]
  },
  {
   "cell_type": "code",
   "execution_count": null,
   "id": "9c2450c3",
   "metadata": {},
   "outputs": [],
   "source": [
    "# code to handle all functions "
   ]
  },
  {
   "cell_type": "code",
   "execution_count": null,
   "id": "e6227d25",
   "metadata": {},
   "outputs": [],
   "source": [
    "buy_products()\n",
    "for i in range(0,20):\n",
    "    opt = str(input(\"You Want to Bye More products y/n: \"))\n",
    "    if opt == 'y':\n",
    "        buy_products()        \n",
    "    else:\n",
    "        print(\"****************** Thank you for using ******************\\n\")\n",
    "        break"
   ]
  }
 ],
 "metadata": {
  "kernelspec": {
   "display_name": "Python 3",
   "language": "python",
   "name": "python3"
  },
  "language_info": {
   "codemirror_mode": {
    "name": "ipython",
    "version": 3
   },
   "file_extension": ".py",
   "mimetype": "text/x-python",
   "name": "python",
   "nbconvert_exporter": "python",
   "pygments_lexer": "ipython3",
   "version": "3.8.8"
  }
 },
 "nbformat": 4,
 "nbformat_minor": 5
}
