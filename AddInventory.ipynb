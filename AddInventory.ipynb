{
 "cells": [
  {
   "cell_type": "code",
   "execution_count": null,
   "id": "492850c1",
   "metadata": {},
   "outputs": [],
   "source": [
    "# Functions to Handle Add/Update items"
   ]
  },
  {
   "cell_type": "code",
   "execution_count": 1,
   "id": "45de76e6",
   "metadata": {},
   "outputs": [],
   "source": [
    "import json\n",
    "\n",
    "def AddItemToInventory():\n",
    "    print(\"Enter the item details you want to Add to Inventry..........\")\n",
    "    prod_id = str(input(\"Enter product id: \"))\n",
    "    name = str(input(\"Enter name: \"))\n",
    "    pr = float(input(\"Enter price: \"))\n",
    "    qn = int(input(\"Enter quantity: \"))\n",
    "    dis = int(input(\"Enter discount percentage: \"))\n",
    "    cat = str(input(\"Enter Category of Product: \"))\n",
    "    records[prod_id] = {'Name': name, 'Price': pr, 'Quantity': qn, 'Discount': dis, 'Category': cat}\n",
    "\n",
    "def UpdateInventory():\n",
    "    prod_id  = input(\"Please Enter the product id you want to update: \")\n",
    "    if prod_id in records:\n",
    "        print(f\"********* What Do You Want To Update *********\\n1.Name\\n2.Price\\n3.Quantity\\n4.Discount\\n5.Category\")\n",
    "        choice = int(input(\"\\n\\nEnter your choice: \"))\n",
    "        if choice == 1:\n",
    "            records[prod_id]['Name'] = str(input(f\"Please update new Name : \"))\n",
    "            print(f\"Name of product updated successfully\")   \n",
    "        elif choice == 2:\n",
    "            records[prod_id]['Price'] = float(input(f\"Please update new Price: \"))\n",
    "            print(f\"Price of product updated successfully\")\n",
    "        elif choice == 3:\n",
    "            records[prod_id]['Quantity'] += int(input(f\"Please update new Quantity : \"))\n",
    "            print(f\"Quantity of product updated successfully\")\n",
    "        elif choice == 4:\n",
    "            records[prod_id]['Discount'] = int(input(f\"Please update new Discount : \"))\n",
    "            print(f\"Discount of product updated successfully\")   \n",
    "        elif choice == 5:\n",
    "            records[prod_id]['Category'] = str(input(f\"Please update new Category : \"))\n",
    "            print(f\"Category of product updated successfully\")\n",
    "        else:\n",
    "            print(\"Enter correct choice\")\n",
    "    else:\n",
    "        print(\"Item not found please add to Inventory\")\n",
    "        AddItemToInventory()"
   ]
  },
  {
   "cell_type": "code",
   "execution_count": null,
   "id": "a1e7b6bb",
   "metadata": {},
   "outputs": [],
   "source": [
    "# Open file in Read mode "
   ]
  },
  {
   "cell_type": "code",
   "execution_count": 2,
   "id": "b0de198c",
   "metadata": {},
   "outputs": [],
   "source": [
    "fd = open(\"record.json\",'r')\n",
    "r = fd.read()\n",
    "fd.close()\n",
    "\n",
    "records = json.loads(r)"
   ]
  },
  {
   "cell_type": "code",
   "execution_count": null,
   "id": "751cd93b",
   "metadata": {},
   "outputs": [],
   "source": [
    "# Print Available Items in Inventory"
   ]
  },
  {
   "cell_type": "code",
   "execution_count": null,
   "id": "77bd1171",
   "metadata": {},
   "outputs": [],
   "source": [
    "print(\"\\t\\t\\t\\t-----------------Available Items-------------------\\n\")\n",
    "for item in records:\n",
    "    print(f\"Id = {item} :=> {records[item]}\")"
   ]
  },
  {
   "cell_type": "code",
   "execution_count": null,
   "id": "632caba3",
   "metadata": {},
   "outputs": [],
   "source": [
    "# Gives options to add/update and accordingly calls add/update functions"
   ]
  },
  {
   "cell_type": "code",
   "execution_count": null,
   "id": "edb02896",
   "metadata": {},
   "outputs": [],
   "source": [
    "add = str(input(\"Do you want to add/update items to inventory\\n1.Add\\n2.Update\\n \"))\n",
    "if(add =='1'):\n",
    "    AddItemToInventory()\n",
    "    for i in range(0, 100):\n",
    "        Add = str(input(\"Do you want to add another items to inventory y/n: \"))\n",
    "        if(Add == 'y'):\n",
    "            AddItemToInventory() \n",
    "        else:\n",
    "            print(\"Items are saved in Inventory\")\n",
    "            print(\"************ Inventry is Updated ************\")\n",
    "            break\n",
    "else:\n",
    "    UpdateInventory()"
   ]
  },
  {
   "cell_type": "code",
   "execution_count": null,
   "id": "56a82415",
   "metadata": {},
   "outputs": [],
   "source": [
    "# Write the updated data of inventory into file"
   ]
  },
  {
   "cell_type": "code",
   "execution_count": 3,
   "id": "ee548698",
   "metadata": {},
   "outputs": [],
   "source": [
    "js = json.dumps(records, indent = 4)\n",
    "\n",
    "fd = open(\"record.json\",'w')\n",
    "fd.write(js)\n",
    "fd.close()"
   ]
  }
 ],
 "metadata": {
  "kernelspec": {
   "display_name": "Python 3",
   "language": "python",
   "name": "python3"
  },
  "language_info": {
   "codemirror_mode": {
    "name": "ipython",
    "version": 3
   },
   "file_extension": ".py",
   "mimetype": "text/x-python",
   "name": "python",
   "nbconvert_exporter": "python",
   "pygments_lexer": "ipython3",
   "version": "3.8.8"
  }
 },
 "nbformat": 4,
 "nbformat_minor": 5
}
